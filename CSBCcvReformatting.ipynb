{
 "cells": [
  {
   "cell_type": "code",
   "execution_count": null,
   "id": "e19395c2",
   "metadata": {},
   "outputs": [],
   "source": []
  },
  {
   "cell_type": "code",
   "execution_count": 2,
   "id": "7e734cf6",
   "metadata": {},
   "outputs": [
    {
     "name": "stdout",
     "output_type": "stream",
     "text": [
      "           key                                  Use  \\\n",
      "0        assat                 Cell Viability Assay   \n",
      "1        assay               10-cell RNA Sequencing   \n",
      "2        assay  16S Ribosomal Gene Sequencing Assay   \n",
      "3        assay                           3' RNA-seq   \n",
      "4        assay                                   3C   \n",
      "..         ...                                  ...   \n",
      "669  tumorType                 Urothelial Carcinoma   \n",
      "670  tumorType                 Uterine Adenosarcoma   \n",
      "671  tumorType                       Uveal Melanoma   \n",
      "672  tumorType                       Uveal Neoplasm   \n",
      "673  tumorType                    Vascular Neoplasm   \n",
      "\n",
      "                                                                                                       Used For  \n",
      "0                                                                                  In Vitro Cell Survival Assay  \n",
      "1                                                                                                             ,  \n",
      "2    16S Ribosomal RNA Sequencing, 16S ribosomal RNA sequencing;16S rRNA sequencing;16S rRNA gene amplification  \n",
      "3                                                                                                                \n",
      "4                                                                    Chromosome Conformation NG Capture-C Assay  \n",
      "..                                                                                                          ...  \n",
      "669                                                                                                              \n",
      "670                                                                                                              \n",
      "671                                                                                                              \n",
      "672                                                                                                              \n",
      "673                                                                                                              \n",
      "\n",
      "[674 rows x 3 columns]\n"
     ]
    }
   ],
   "source": [
    "import pandas as pd\n",
    "import re\n",
    "\n",
    "# First download controlled vocabulary list from Google Sheets and save as CSV\n",
    "\n",
    "# Get rid of ellipses\n",
    "pd.set_option('display.max_colwidth', None)\n",
    "\n",
    "# Convert csv to dataframe using filepath\n",
    "df = pd.read_csv(\"/Users/bzalmanek/Desktop/Python-Scripts/CSBCmasterList.csv\")\n",
    "\n",
    "# Drop unncessary columns\n",
    "cols = [3,4,5,6,7,8]\n",
    "df = df.drop(df.columns[cols],axis=1)\n",
    "\n",
    "# implode existing column\n",
    "df = df.groupby(['key','value']).agg(tuple).applymap(list).reset_index()\n",
    "\n",
    "# Convert list to string in existing\n",
    "df['existing'] = df['existing'].to_string(header=True, index=False).split('\\n')\n",
    "\n",
    "# remove brackets from cells\n",
    "df['existing'] = df['existing'].apply(lambda x: x.replace('[',''))\n",
    "df['existing'] = df['existing'].apply(lambda x: x.replace(']',''))\n",
    "\n",
    "# Replace nan values to empty strings\n",
    "df['existing'] = df['existing'].replace('nan', '', regex=True)\n",
    "\n",
    "# Strip Leading and trailings space\n",
    "df['existing'] = df['existing'].str.strip()\n",
    "\n",
    "# Rename columns\n",
    "df = df.rename(columns={'value' : 'Use', 'existing': 'Used For'})\n",
    "print(df)\n",
    "\n",
    "# Convert to csv\n",
    "df.to_csv(r'/Users/bzalmanek/Desktop/Python-Scripts/CSBCreformattedList.csv', index=False)"
   ]
  },
  {
   "cell_type": "code",
   "execution_count": null,
   "id": "04d0ed63",
   "metadata": {},
   "outputs": [],
   "source": []
  }
 ],
 "metadata": {
  "kernelspec": {
   "display_name": "Python 3 (ipykernel)",
   "language": "python",
   "name": "python3"
  },
  "language_info": {
   "codemirror_mode": {
    "name": "ipython",
    "version": 3
   },
   "file_extension": ".py",
   "mimetype": "text/x-python",
   "name": "python",
   "nbconvert_exporter": "python",
   "pygments_lexer": "ipython3",
   "version": "3.8.8"
  }
 },
 "nbformat": 4,
 "nbformat_minor": 5
}
